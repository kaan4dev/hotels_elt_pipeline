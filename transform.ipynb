{
 "cells": [
  {
   "cell_type": "code",
   "execution_count": 1,
   "id": "a23d0d13",
   "metadata": {},
   "outputs": [],
   "source": [
    "from pyspark.sql.functions import concat_ws, to_date, col\n",
    "from pyspark.sql import SparkSession\n",
    "from pyspark.ml.feature import StringIndexer\n",
    "\n"
   ]
  },
  {
   "cell_type": "code",
   "execution_count": 2,
   "id": "3865898b",
   "metadata": {},
   "outputs": [
    {
     "name": "stderr",
     "output_type": "stream",
     "text": [
      "Setting default log level to \"WARN\".\n",
      "To adjust logging level use sc.setLogLevel(newLevel). For SparkR, use setLogLevel(newLevel).\n",
      "25/09/15 16:37:35 WARN NativeCodeLoader: Unable to load native-hadoop library for your platform... using builtin-java classes where applicable\n"
     ]
    }
   ],
   "source": [
    "spark = SparkSession.builder \\\n",
    "    .appName(\"HotelReservations_Transform\") \\\n",
    "    .getOrCreate()\n"
   ]
  },
  {
   "cell_type": "code",
   "execution_count": 3,
   "id": "87e40028",
   "metadata": {},
   "outputs": [
    {
     "name": "stderr",
     "output_type": "stream",
     "text": [
      "                                                                                \r"
     ]
    }
   ],
   "source": [
    "df = spark.read.parquet(\"hotel_bookings_parquet\")"
   ]
  },
  {
   "cell_type": "code",
   "execution_count": 4,
   "id": "7557b43b",
   "metadata": {},
   "outputs": [
    {
     "name": "stderr",
     "output_type": "stream",
     "text": [
      "25/09/15 16:37:38 WARN SparkStringUtils: Truncated the string representation of a plan since it was too large. This behavior can be adjusted by setting 'spark.sql.debug.maxToStringFields'.\n",
      "                                                                                \r"
     ]
    },
    {
     "name": "stdout",
     "output_type": "stream",
     "text": [
      "+------------+-----------+---------+-----------------+------------------+------------------------+-------------------------+-----------------------+--------------------+------+--------+------+---------+-------+--------------+--------------------+-----------------+----------------------+------------------------------+------------------+------------------+---------------+------------+-----+-------+--------------------+---------------+------+---------------------------+-------------------------+------------------+-----------------------+-----------------+--------------------+------------+----------------+\n",
      "|       hotel|is_canceled|lead_time|arrival_date_year|arrival_date_month|arrival_date_week_number|arrival_date_day_of_month|stays_in_weekend_nights|stays_in_week_nights|adults|children|babies|     meal|country|market_segment|distribution_channel|is_repeated_guest|previous_cancellations|previous_bookings_not_canceled|reserved_room_type|assigned_room_type|booking_changes|deposit_type|agent|company|days_in_waiting_list|  customer_type|   adr|required_car_parking_spaces|total_of_special_requests|reservation_status|reservation_status_date|             name|               email|phone-number|     credit_card|\n",
      "+------------+-----------+---------+-----------------+------------------+------------------------+-------------------------+-----------------------+--------------------+------+--------+------+---------+-------+--------------+--------------------+-----------------+----------------------+------------------------------+------------------+------------------+---------------+------------+-----+-------+--------------------+---------------+------+---------------------------+-------------------------+------------------+-----------------------+-----------------+--------------------+------------+----------------+\n",
      "|Resort Hotel|          0|       31|             2016|          December|                      53|                       30|                      0|                   2|     2|     0.0|     0|       HB|    PRT|        Groups|              Direct|                1|                     0|                             1|                 A|                 A|              0|  No Deposit| NULL|   NULL|                   0|Transient-Party| 305.0|                          0|                        1|         Check-Out|             2017-01-01|    Brittany Lane|      BLane@mail.com|106-384-8767|************6462|\n",
      "|Resort Hotel|          0|      112|             2015|          December|                      53|                       30|                      0|                   3|     1|     0.0|     0|Undefined|    PRT|        Groups|              Direct|                0|                     0|                             0|                 A|                 A|              2|  No Deposit| NULL|   NULL|                   0|Transient-Party|155.67|                          0|                        0|         Check-Out|             2016-01-02|     Donna Warner|Warner.Donna@veri...|606-049-3895|************6102|\n",
      "|Resort Hotel|          0|      112|             2015|          December|                      53|                       30|                      0|                   3|     2|     0.0|     0|Undefined|    PRT|        Groups|              Direct|                0|                     0|                             0|                 A|                 A|              0|  No Deposit| NULL|   NULL|                   0|Transient-Party|224.67|                          0|                        0|         Check-Out|             2016-01-02|       Lisa Evans|Lisa.Evans@gmail.com|117-278-5651|************4306|\n",
      "|Resort Hotel|          0|      112|             2015|          December|                      53|                       30|                      0|                   3|     2|     0.0|     0|Undefined|    PRT|        Groups|              Direct|                0|                     0|                             0|                 A|                 A|              0|  No Deposit| NULL|   NULL|                   0|Transient-Party|224.67|                          0|                        0|         Check-Out|             2016-01-02|  Alexander Combs|AlexanderCombs@pr...|394-266-6851|************1041|\n",
      "|Resort Hotel|          0|       70|             2015|          December|                      52|                       23|                      2|                   8|     3|     0.0|     0|       HB|    PRT|     Online TA|               TA/TO|                0|                     0|                             0|                 H|                 H|              1|  No Deposit|240.0|   NULL|                   0|      Transient|203.95|                          1|                        0|         Check-Out|             2016-01-02|   Andrew Pittman|Pittman_Andrew96@...|360-339-5924|************5892|\n",
      "|Resort Hotel|          0|      105|             2016|          December|                      52|                       23|                      3|                   7|     2|     0.0|     0|       HB|    PRT|        Direct|               TA/TO|                1|                     0|                             0|                 E|                 E|              0|  No Deposit| NULL|   NULL|                   0|      Transient| 128.7|                          1|                        1|         Check-Out|             2017-01-02|Michael Fernandez|Fernandez_Michael...|175-794-2962|************3074|\n",
      "|Resort Hotel|          0|        2|             2016|           January|                       1|                        2|                      0|                   1|     2|     0.0|     0|       BB|    PRT|     Online TA|               TA/TO|                0|                     0|                             0|                 A|                 D|              0|  No Deposit|240.0|   NULL|                   0|      Transient|  48.0|                          0|                        1|         Check-Out|             2016-01-03|    Kimberly Cain|Cain_Kimberly@ver...|118-799-7470|************9205|\n",
      "|Resort Hotel|          0|       44|             2015|          December|                      53|                       31|                      0|                   3|     2|     0.0|     0|       BB|    PRT| Offline TA/TO|               TA/TO|                0|                     0|                             0|                 E|                 F|              0|  No Deposit|181.0|   NULL|                   0|      Transient|163.48|                          1|                        0|         Check-Out|             2016-01-03|     Robert Smith|Robert.Smith@zoho...|720-766-0244|************3390|\n",
      "|Resort Hotel|          0|       12|             2016|           October|                      40|                        1|                      2|                   3|     2|     0.0|     0|       BB|    PRT| Offline TA/TO|               TA/TO|                1|                     0|                             1|                 E|                 E|              1|  No Deposit|181.0|   NULL|                   1|      Transient| 108.4|                          1|                        0|         Check-Out|             2016-10-06|     Daniel Stout|Stout.Daniel42@ou...|753-758-4379|************6936|\n",
      "|Resort Hotel|          0|      116|             2017|              June|                      22|                        3|                      2|                   5|     2|     0.0|     0|       BB|    PRT| Offline TA/TO|               TA/TO|                1|                     0|                             2|                 E|                 E|              0|  No Deposit|181.0|   NULL|                   0|      Transient| 123.0|                          1|                        2|         Check-Out|             2017-06-10| Timothy Davidson|TDavidson13@outlo...|631-713-5686|************8134|\n",
      "+------------+-----------+---------+-----------------+------------------+------------------------+-------------------------+-----------------------+--------------------+------+--------+------+---------+-------+--------------+--------------------+-----------------+----------------------+------------------------------+------------------+------------------+---------------+------------+-----+-------+--------------------+---------------+------+---------------------------+-------------------------+------------------+-----------------------+-----------------+--------------------+------------+----------------+\n",
      "only showing top 10 rows\n",
      "\n",
      "root\n",
      " |-- hotel: string (nullable = true)\n",
      " |-- is_canceled: integer (nullable = true)\n",
      " |-- lead_time: integer (nullable = true)\n",
      " |-- arrival_date_year: integer (nullable = true)\n",
      " |-- arrival_date_month: string (nullable = true)\n",
      " |-- arrival_date_week_number: integer (nullable = true)\n",
      " |-- arrival_date_day_of_month: integer (nullable = true)\n",
      " |-- stays_in_weekend_nights: integer (nullable = true)\n",
      " |-- stays_in_week_nights: integer (nullable = true)\n",
      " |-- adults: integer (nullable = true)\n",
      " |-- children: double (nullable = true)\n",
      " |-- babies: integer (nullable = true)\n",
      " |-- meal: string (nullable = true)\n",
      " |-- country: string (nullable = true)\n",
      " |-- market_segment: string (nullable = true)\n",
      " |-- distribution_channel: string (nullable = true)\n",
      " |-- is_repeated_guest: integer (nullable = true)\n",
      " |-- previous_cancellations: integer (nullable = true)\n",
      " |-- previous_bookings_not_canceled: integer (nullable = true)\n",
      " |-- reserved_room_type: string (nullable = true)\n",
      " |-- assigned_room_type: string (nullable = true)\n",
      " |-- booking_changes: integer (nullable = true)\n",
      " |-- deposit_type: string (nullable = true)\n",
      " |-- agent: double (nullable = true)\n",
      " |-- company: double (nullable = true)\n",
      " |-- days_in_waiting_list: integer (nullable = true)\n",
      " |-- customer_type: string (nullable = true)\n",
      " |-- adr: double (nullable = true)\n",
      " |-- required_car_parking_spaces: integer (nullable = true)\n",
      " |-- total_of_special_requests: integer (nullable = true)\n",
      " |-- reservation_status: string (nullable = true)\n",
      " |-- reservation_status_date: date (nullable = true)\n",
      " |-- name: string (nullable = true)\n",
      " |-- email: string (nullable = true)\n",
      " |-- phone-number: string (nullable = true)\n",
      " |-- credit_card: string (nullable = true)\n",
      "\n"
     ]
    }
   ],
   "source": [
    "df.show(10)\n",
    "df.printSchema()"
   ]
  },
  {
   "cell_type": "code",
   "execution_count": 5,
   "id": "09bb3b7f",
   "metadata": {},
   "outputs": [
    {
     "name": "stdout",
     "output_type": "stream",
     "text": [
      "+------------+-----------+---------+-----------------+------------------+------------------------+-------------------------+-----------------------+--------------------+------+--------+------+---------+-------+--------------+--------------------+-----------------+----------------------+------------------------------+------------------+------------------+---------------+------------+-----+-------+---------------+------+-------------------------+\n",
      "|       hotel|is_canceled|lead_time|arrival_date_year|arrival_date_month|arrival_date_week_number|arrival_date_day_of_month|stays_in_weekend_nights|stays_in_week_nights|adults|children|babies|     meal|country|market_segment|distribution_channel|is_repeated_guest|previous_cancellations|previous_bookings_not_canceled|reserved_room_type|assigned_room_type|booking_changes|deposit_type|agent|company|  customer_type|   adr|total_of_special_requests|\n",
      "+------------+-----------+---------+-----------------+------------------+------------------------+-------------------------+-----------------------+--------------------+------+--------+------+---------+-------+--------------+--------------------+-----------------+----------------------+------------------------------+------------------+------------------+---------------+------------+-----+-------+---------------+------+-------------------------+\n",
      "|Resort Hotel|          0|       31|             2016|          December|                      53|                       30|                      0|                   2|     2|     0.0|     0|       HB|    PRT|        Groups|              Direct|                1|                     0|                             1|                 A|                 A|              0|  No Deposit| NULL|   NULL|Transient-Party| 305.0|                        1|\n",
      "|Resort Hotel|          0|      112|             2015|          December|                      53|                       30|                      0|                   3|     1|     0.0|     0|Undefined|    PRT|        Groups|              Direct|                0|                     0|                             0|                 A|                 A|              2|  No Deposit| NULL|   NULL|Transient-Party|155.67|                        0|\n",
      "|Resort Hotel|          0|      112|             2015|          December|                      53|                       30|                      0|                   3|     2|     0.0|     0|Undefined|    PRT|        Groups|              Direct|                0|                     0|                             0|                 A|                 A|              0|  No Deposit| NULL|   NULL|Transient-Party|224.67|                        0|\n",
      "|Resort Hotel|          0|      112|             2015|          December|                      53|                       30|                      0|                   3|     2|     0.0|     0|Undefined|    PRT|        Groups|              Direct|                0|                     0|                             0|                 A|                 A|              0|  No Deposit| NULL|   NULL|Transient-Party|224.67|                        0|\n",
      "|Resort Hotel|          0|       70|             2015|          December|                      52|                       23|                      2|                   8|     3|     0.0|     0|       HB|    PRT|     Online TA|               TA/TO|                0|                     0|                             0|                 H|                 H|              1|  No Deposit|240.0|   NULL|      Transient|203.95|                        0|\n",
      "+------------+-----------+---------+-----------------+------------------+------------------------+-------------------------+-----------------------+--------------------+------+--------+------+---------+-------+--------------+--------------------+-----------------+----------------------+------------------------------+------------------+------------------+---------------+------------+-----+-------+---------------+------+-------------------------+\n",
      "only showing top 5 rows\n",
      "\n"
     ]
    }
   ],
   "source": [
    "df = df.drop(\"name\", \"email\", \"phone-number\", \"credit_card\", \"reservation_status_date\", \"reservation_status\", \"required_car_parking_spaces\", \"days_in_waiting_list\")\n",
    "df.show(5)"
   ]
  },
  {
   "cell_type": "code",
   "execution_count": 6,
   "id": "a0f7cc00",
   "metadata": {},
   "outputs": [
    {
     "name": "stdout",
     "output_type": "stream",
     "text": [
      "+------------+-----------+---------+------------------------+-----------------------+--------------------+------+--------+------+---------+-------+--------------+--------------------+-----------------+----------------------+------------------------------+------------------+------------------+---------------+------------+-----+-------+---------------+------+-------------------------+------------+\n",
      "|       hotel|is_canceled|lead_time|arrival_date_week_number|stays_in_weekend_nights|stays_in_week_nights|adults|children|babies|     meal|country|market_segment|distribution_channel|is_repeated_guest|previous_cancellations|previous_bookings_not_canceled|reserved_room_type|assigned_room_type|booking_changes|deposit_type|agent|company|  customer_type|   adr|total_of_special_requests|arrival_date|\n",
      "+------------+-----------+---------+------------------------+-----------------------+--------------------+------+--------+------+---------+-------+--------------+--------------------+-----------------+----------------------+------------------------------+------------------+------------------+---------------+------------+-----+-------+---------------+------+-------------------------+------------+\n",
      "|Resort Hotel|          0|       31|                      53|                      0|                   2|     2|     0.0|     0|       HB|    PRT|        Groups|              Direct|                1|                     0|                             1|                 A|                 A|              0|  No Deposit| NULL|   NULL|Transient-Party| 305.0|                        1|  2016-12-30|\n",
      "|Resort Hotel|          0|      112|                      53|                      0|                   3|     1|     0.0|     0|Undefined|    PRT|        Groups|              Direct|                0|                     0|                             0|                 A|                 A|              2|  No Deposit| NULL|   NULL|Transient-Party|155.67|                        0|  2015-12-30|\n",
      "|Resort Hotel|          0|      112|                      53|                      0|                   3|     2|     0.0|     0|Undefined|    PRT|        Groups|              Direct|                0|                     0|                             0|                 A|                 A|              0|  No Deposit| NULL|   NULL|Transient-Party|224.67|                        0|  2015-12-30|\n",
      "|Resort Hotel|          0|      112|                      53|                      0|                   3|     2|     0.0|     0|Undefined|    PRT|        Groups|              Direct|                0|                     0|                             0|                 A|                 A|              0|  No Deposit| NULL|   NULL|Transient-Party|224.67|                        0|  2015-12-30|\n",
      "|Resort Hotel|          0|       70|                      52|                      2|                   8|     3|     0.0|     0|       HB|    PRT|     Online TA|               TA/TO|                0|                     0|                             0|                 H|                 H|              1|  No Deposit|240.0|   NULL|      Transient|203.95|                        0|  2015-12-23|\n",
      "+------------+-----------+---------+------------------------+-----------------------+--------------------+------+--------+------+---------+-------+--------------+--------------------+-----------------+----------------------+------------------------------+------------------+------------------+---------------+------------+-----+-------+---------------+------+-------------------------+------------+\n",
      "only showing top 5 rows\n",
      "\n"
     ]
    }
   ],
   "source": [
    "df = df.withColumn(\n",
    "    \"arrival_date\",\n",
    "    to_date(\n",
    "        concat_ws(\"-\", col(\"arrival_date_year\"), col(\"arrival_date_month\"), col(\"arrival_date_day_of_month\")),\n",
    "        \"yyyy-MMMM-d\"\n",
    "    )\n",
    ")\n",
    "\n",
    "df = df.drop(\"arrival_date_year\", \"arrival_date_month\", \"arrival_date_day_of_month\")\n",
    "\n",
    "df.show(5)"
   ]
  },
  {
   "cell_type": "code",
   "execution_count": 7,
   "id": "dacb76aa",
   "metadata": {},
   "outputs": [
    {
     "name": "stdout",
     "output_type": "stream",
     "text": [
      "+-----------+---------+------------------------+-----------------------+--------------------+------+--------+------+-------+-----------------+----------------------+------------------------------+---------------+------------+-----+-------+------+-------------------------+------------+-----------+----------+--------------------+--------------------------+------------------------+------------------------+-------------------+\n",
      "|is_canceled|lead_time|arrival_date_week_number|stays_in_weekend_nights|stays_in_week_nights|adults|children|babies|country|is_repeated_guest|previous_cancellations|previous_bookings_not_canceled|booking_changes|deposit_type|agent|company|   adr|total_of_special_requests|arrival_date|hotel_index|meal_index|market_segment_index|distribution_channel_index|reserved_room_type_index|assigned_room_type_index|customer_type_index|\n",
      "+-----------+---------+------------------------+-----------------------+--------------------+------+--------+------+-------+-----------------+----------------------+------------------------------+---------------+------------+-----+-------+------+-------------------------+------------+-----------+----------+--------------------+--------------------------+------------------------+------------------------+-------------------+\n",
      "|          0|       31|                      53|                      0|                   2|     2|     0.0|     0|    PRT|                1|                     0|                             1|              0|  No Deposit| NULL|   NULL| 305.0|                        1|  2016-12-30|        1.0|       1.0|                 2.0|                       1.0|                     0.0|                     0.0|                1.0|\n",
      "|          0|      112|                      53|                      0|                   3|     1|     0.0|     0|    PRT|                0|                     0|                             0|              2|  No Deposit| NULL|   NULL|155.67|                        0|  2015-12-30|        1.0|       3.0|                 2.0|                       1.0|                     0.0|                     0.0|                1.0|\n",
      "|          0|      112|                      53|                      0|                   3|     2|     0.0|     0|    PRT|                0|                     0|                             0|              0|  No Deposit| NULL|   NULL|224.67|                        0|  2015-12-30|        1.0|       3.0|                 2.0|                       1.0|                     0.0|                     0.0|                1.0|\n",
      "|          0|      112|                      53|                      0|                   3|     2|     0.0|     0|    PRT|                0|                     0|                             0|              0|  No Deposit| NULL|   NULL|224.67|                        0|  2015-12-30|        1.0|       3.0|                 2.0|                       1.0|                     0.0|                     0.0|                1.0|\n",
      "|          0|       70|                      52|                      2|                   8|     3|     0.0|     0|    PRT|                0|                     0|                             0|              1|  No Deposit|240.0|   NULL|203.95|                        0|  2015-12-23|        1.0|       1.0|                 0.0|                       0.0|                     7.0|                     7.0|                0.0|\n",
      "+-----------+---------+------------------------+-----------------------+--------------------+------+--------+------+-------+-----------------+----------------------+------------------------------+---------------+------------+-----+-------+------+-------------------------+------------+-----------+----------+--------------------+--------------------------+------------------------+------------------------+-------------------+\n",
      "only showing top 5 rows\n",
      "\n"
     ]
    }
   ],
   "source": [
    "categorical_cols = [\"hotel\", \"meal\", \"market_segment\", \"distribution_channel\", \"reserved_room_type\", \"assigned_room_type\", \"customer_type\"]\n",
    "\n",
    "for col_name in categorical_cols:\n",
    "    indexer = StringIndexer(inputCol= col_name, outputCol= col_name + \"_index\")\n",
    "    df = indexer.fit(df).transform(df)\n",
    "\n",
    "df = df.drop(\"hotel\", \"meal\", \"market_segment\", \"distribution_channel\", \"reserved_room_type\", \"assigned_room_type\", \"customer_type\")\n",
    "\n",
    "df.show(5)"
   ]
  },
  {
   "cell_type": "code",
   "execution_count": 9,
   "id": "e6180b20",
   "metadata": {},
   "outputs": [
    {
     "name": "stdout",
     "output_type": "stream",
     "text": [
      "+-----------+---------+------------------------+-----------------------+--------------------+------+--------+------+-------+-----------------+----------------------+------------------------------+---------------+------------+-----+-------+------+-------------------------+------------+-----------+----------+--------------------+--------------------------+------------------------+------------------------+-------------------+\n",
      "|is_canceled|lead_time|arrival_date_week_number|stays_in_weekend_nights|stays_in_week_nights|adults|children|babies|country|is_repeated_guest|previous_cancellations|previous_bookings_not_canceled|booking_changes|deposit_type|agent|company|   adr|total_of_special_requests|arrival_date|hotel_index|meal_index|market_segment_index|distribution_channel_index|reserved_room_type_index|assigned_room_type_index|customer_type_index|\n",
      "+-----------+---------+------------------------+-----------------------+--------------------+------+--------+------+-------+-----------------+----------------------+------------------------------+---------------+------------+-----+-------+------+-------------------------+------------+-----------+----------+--------------------+--------------------------+------------------------+------------------------+-------------------+\n",
      "|          0|       31|                      53|                      0|                   2|     2|     0.0|     0|    PRT|                1|                     0|                             1|              0|  No Deposit| NULL|   NULL| 305.0|                        1|  2016-12-30|        1.0|       1.0|                 2.0|                       1.0|                     0.0|                     0.0|                1.0|\n",
      "|          0|      112|                      53|                      0|                   3|     1|     0.0|     0|    PRT|                0|                     0|                             0|              2|  No Deposit| NULL|   NULL|155.67|                        0|  2015-12-30|        1.0|       3.0|                 2.0|                       1.0|                     0.0|                     0.0|                1.0|\n",
      "|          0|      112|                      53|                      0|                   3|     2|     0.0|     0|    PRT|                0|                     0|                             0|              0|  No Deposit| NULL|   NULL|224.67|                        0|  2015-12-30|        1.0|       3.0|                 2.0|                       1.0|                     0.0|                     0.0|                1.0|\n",
      "|          0|      112|                      53|                      0|                   3|     2|     0.0|     0|    PRT|                0|                     0|                             0|              0|  No Deposit| NULL|   NULL|224.67|                        0|  2015-12-30|        1.0|       3.0|                 2.0|                       1.0|                     0.0|                     0.0|                1.0|\n",
      "|          0|       70|                      52|                      2|                   8|     3|     0.0|     0|    PRT|                0|                     0|                             0|              1|  No Deposit|240.0|   NULL|203.95|                        0|  2015-12-23|        1.0|       1.0|                 0.0|                       0.0|                     7.0|                     7.0|                0.0|\n",
      "+-----------+---------+------------------------+-----------------------+--------------------+------+--------+------+-------+-----------------+----------------------+------------------------------+---------------+------------+-----+-------+------+-------------------------+------------+-----------+----------+--------------------+--------------------------+------------------------+------------------------+-------------------+\n",
      "only showing top 5 rows\n",
      "\n"
     ]
    }
   ],
   "source": [
    "df = df.fillna({\"children\": 0, \"babies\": 0})\n",
    "\n",
    "df.show(5)"
   ]
  },
  {
   "cell_type": "code",
   "execution_count": null,
   "id": "006354df",
   "metadata": {},
   "outputs": [
    {
     "name": "stdout",
     "output_type": "stream",
     "text": [
      "+-----------+---------+------------------------+-----------------------+--------------------+------+--------+------+-------+-----------------+----------------------+------------------------------+---------------+------------+-----+-------+------+-------------------------+------------+-----------+----------+--------------------+--------------------------+------------------------+------------------------+-------------------+-----------+------------+\n",
      "|is_canceled|lead_time|arrival_date_week_number|stays_in_weekend_nights|stays_in_week_nights|adults|children|babies|country|is_repeated_guest|previous_cancellations|previous_bookings_not_canceled|booking_changes|deposit_type|agent|company|   adr|total_of_special_requests|arrival_date|hotel_index|meal_index|market_segment_index|distribution_channel_index|reserved_room_type_index|assigned_room_type_index|customer_type_index|total_stays|total_guests|\n",
      "+-----------+---------+------------------------+-----------------------+--------------------+------+--------+------+-------+-----------------+----------------------+------------------------------+---------------+------------+-----+-------+------+-------------------------+------------+-----------+----------+--------------------+--------------------------+------------------------+------------------------+-------------------+-----------+------------+\n",
      "|          0|       31|                      53|                      0|                   2|     2|     0.0|     0|    PRT|                1|                     0|                             1|              0|  No Deposit| NULL|   NULL| 305.0|                        1|  2016-12-30|        1.0|       1.0|                 2.0|                       1.0|                     0.0|                     0.0|                1.0|          2|         2.0|\n",
      "|          0|      112|                      53|                      0|                   3|     1|     0.0|     0|    PRT|                0|                     0|                             0|              2|  No Deposit| NULL|   NULL|155.67|                        0|  2015-12-30|        1.0|       3.0|                 2.0|                       1.0|                     0.0|                     0.0|                1.0|          3|         1.0|\n",
      "|          0|      112|                      53|                      0|                   3|     2|     0.0|     0|    PRT|                0|                     0|                             0|              0|  No Deposit| NULL|   NULL|224.67|                        0|  2015-12-30|        1.0|       3.0|                 2.0|                       1.0|                     0.0|                     0.0|                1.0|          3|         2.0|\n",
      "|          0|      112|                      53|                      0|                   3|     2|     0.0|     0|    PRT|                0|                     0|                             0|              0|  No Deposit| NULL|   NULL|224.67|                        0|  2015-12-30|        1.0|       3.0|                 2.0|                       1.0|                     0.0|                     0.0|                1.0|          3|         2.0|\n",
      "|          0|       70|                      52|                      2|                   8|     3|     0.0|     0|    PRT|                0|                     0|                             0|              1|  No Deposit|240.0|   NULL|203.95|                        0|  2015-12-23|        1.0|       1.0|                 0.0|                       0.0|                     7.0|                     7.0|                0.0|         10|         3.0|\n",
      "+-----------+---------+------------------------+-----------------------+--------------------+------+--------+------+-------+-----------------+----------------------+------------------------------+---------------+------------+-----+-------+------+-------------------------+------------+-----------+----------+--------------------+--------------------------+------------------------+------------------------+-------------------+-----------+------------+\n",
      "only showing top 5 rows\n",
      "\n"
     ]
    }
   ],
   "source": [
    "df = df.withColumn(\"total_stays\", col(\"stays_in_weekend_nights\") + col(\"stays_in_week_nights\"))\n",
    "df = df.withColumn(\"total_guests\", col(\"adults\") + col(\"children\") + col(\"babies\"))\n",
    "\n",
    "df.show(100)"
   ]
  }
 ],
 "metadata": {
  "kernelspec": {
   "display_name": "tf-env",
   "language": "python",
   "name": "python3"
  },
  "language_info": {
   "codemirror_mode": {
    "name": "ipython",
    "version": 3
   },
   "file_extension": ".py",
   "mimetype": "text/x-python",
   "name": "python",
   "nbconvert_exporter": "python",
   "pygments_lexer": "ipython3",
   "version": "3.8.20"
  }
 },
 "nbformat": 4,
 "nbformat_minor": 5
}
