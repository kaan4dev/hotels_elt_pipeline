{
 "cells": [
  {
   "cell_type": "code",
   "execution_count": 13,
   "id": "0de48e7d",
   "metadata": {},
   "outputs": [],
   "source": [
    "import pandas as pd\n",
    "import matplotlib.pyplot as plt\n",
    "import seaborn as sns\n",
    "from pyspark.sql.functions import when\n",
    "\n",
    "\n",
    "import warnings\n",
    "warnings.filterwarnings(\"ignore\")\n"
   ]
  },
  {
   "cell_type": "code",
   "execution_count": 2,
   "id": "abc9cf47",
   "metadata": {},
   "outputs": [
    {
     "data": {
      "application/vnd.microsoft.datawrangler.viewer.v0+json": {
       "columns": [
        {
         "name": "index",
         "rawType": "int64",
         "type": "integer"
        },
        {
         "name": "is_canceled",
         "rawType": "int64",
         "type": "integer"
        },
        {
         "name": "lead_time",
         "rawType": "int64",
         "type": "integer"
        },
        {
         "name": "arrival_date_week_number",
         "rawType": "int64",
         "type": "integer"
        },
        {
         "name": "stays_in_weekend_nights",
         "rawType": "int64",
         "type": "integer"
        },
        {
         "name": "stays_in_week_nights",
         "rawType": "int64",
         "type": "integer"
        },
        {
         "name": "adults",
         "rawType": "int64",
         "type": "integer"
        },
        {
         "name": "children",
         "rawType": "float64",
         "type": "float"
        },
        {
         "name": "babies",
         "rawType": "int64",
         "type": "integer"
        },
        {
         "name": "country",
         "rawType": "object",
         "type": "string"
        },
        {
         "name": "is_repeated_guest",
         "rawType": "int64",
         "type": "integer"
        },
        {
         "name": "previous_cancellations",
         "rawType": "int64",
         "type": "integer"
        },
        {
         "name": "previous_bookings_not_canceled",
         "rawType": "int64",
         "type": "integer"
        },
        {
         "name": "booking_changes",
         "rawType": "int64",
         "type": "integer"
        },
        {
         "name": "deposit_type",
         "rawType": "object",
         "type": "string"
        },
        {
         "name": "agent",
         "rawType": "float64",
         "type": "float"
        },
        {
         "name": "company",
         "rawType": "float64",
         "type": "float"
        },
        {
         "name": "adr",
         "rawType": "float64",
         "type": "float"
        },
        {
         "name": "total_of_special_requests",
         "rawType": "int64",
         "type": "integer"
        },
        {
         "name": "arrival_date",
         "rawType": "object",
         "type": "string"
        },
        {
         "name": "hotel_index",
         "rawType": "float64",
         "type": "float"
        },
        {
         "name": "meal_index",
         "rawType": "float64",
         "type": "float"
        },
        {
         "name": "market_segment_index",
         "rawType": "float64",
         "type": "float"
        },
        {
         "name": "distribution_channel_index",
         "rawType": "float64",
         "type": "float"
        },
        {
         "name": "reserved_room_type_index",
         "rawType": "float64",
         "type": "float"
        },
        {
         "name": "assigned_room_type_index",
         "rawType": "float64",
         "type": "float"
        },
        {
         "name": "customer_type_index",
         "rawType": "float64",
         "type": "float"
        },
        {
         "name": "total_stays",
         "rawType": "int64",
         "type": "integer"
        },
        {
         "name": "total_guests",
         "rawType": "float64",
         "type": "float"
        }
       ],
       "ref": "304306f0-d190-4631-83ef-254d305ee097",
       "rows": [
        [
         "0",
         "0",
         "31",
         "53",
         "0",
         "2",
         "2",
         "0.0",
         "0",
         "PRT",
         "1",
         "0",
         "1",
         "0",
         "No Deposit",
         null,
         null,
         "305.0",
         "1",
         "2016-12-30",
         "1.0",
         "1.0",
         "2.0",
         "1.0",
         "0.0",
         "0.0",
         "1.0",
         "2",
         "2.0"
        ],
        [
         "1",
         "0",
         "112",
         "53",
         "0",
         "3",
         "1",
         "0.0",
         "0",
         "PRT",
         "0",
         "0",
         "0",
         "2",
         "No Deposit",
         null,
         null,
         "155.67",
         "0",
         "2015-12-30",
         "1.0",
         "3.0",
         "2.0",
         "1.0",
         "0.0",
         "0.0",
         "1.0",
         "3",
         "1.0"
        ],
        [
         "2",
         "0",
         "112",
         "53",
         "0",
         "3",
         "2",
         "0.0",
         "0",
         "PRT",
         "0",
         "0",
         "0",
         "0",
         "No Deposit",
         null,
         null,
         "224.67",
         "0",
         "2015-12-30",
         "1.0",
         "3.0",
         "2.0",
         "1.0",
         "0.0",
         "0.0",
         "1.0",
         "3",
         "2.0"
        ],
        [
         "3",
         "0",
         "112",
         "53",
         "0",
         "3",
         "2",
         "0.0",
         "0",
         "PRT",
         "0",
         "0",
         "0",
         "0",
         "No Deposit",
         null,
         null,
         "224.67",
         "0",
         "2015-12-30",
         "1.0",
         "3.0",
         "2.0",
         "1.0",
         "0.0",
         "0.0",
         "1.0",
         "3",
         "2.0"
        ],
        [
         "4",
         "0",
         "70",
         "52",
         "2",
         "8",
         "3",
         "0.0",
         "0",
         "PRT",
         "0",
         "0",
         "0",
         "1",
         "No Deposit",
         "240.0",
         null,
         "203.95",
         "0",
         "2015-12-23",
         "1.0",
         "1.0",
         "0.0",
         "0.0",
         "7.0",
         "7.0",
         "0.0",
         "10",
         "3.0"
        ]
       ],
       "shape": {
        "columns": 28,
        "rows": 5
       }
      },
      "text/html": [
       "<div>\n",
       "<style scoped>\n",
       "    .dataframe tbody tr th:only-of-type {\n",
       "        vertical-align: middle;\n",
       "    }\n",
       "\n",
       "    .dataframe tbody tr th {\n",
       "        vertical-align: top;\n",
       "    }\n",
       "\n",
       "    .dataframe thead th {\n",
       "        text-align: right;\n",
       "    }\n",
       "</style>\n",
       "<table border=\"1\" class=\"dataframe\">\n",
       "  <thead>\n",
       "    <tr style=\"text-align: right;\">\n",
       "      <th></th>\n",
       "      <th>is_canceled</th>\n",
       "      <th>lead_time</th>\n",
       "      <th>arrival_date_week_number</th>\n",
       "      <th>stays_in_weekend_nights</th>\n",
       "      <th>stays_in_week_nights</th>\n",
       "      <th>adults</th>\n",
       "      <th>children</th>\n",
       "      <th>babies</th>\n",
       "      <th>country</th>\n",
       "      <th>is_repeated_guest</th>\n",
       "      <th>...</th>\n",
       "      <th>arrival_date</th>\n",
       "      <th>hotel_index</th>\n",
       "      <th>meal_index</th>\n",
       "      <th>market_segment_index</th>\n",
       "      <th>distribution_channel_index</th>\n",
       "      <th>reserved_room_type_index</th>\n",
       "      <th>assigned_room_type_index</th>\n",
       "      <th>customer_type_index</th>\n",
       "      <th>total_stays</th>\n",
       "      <th>total_guests</th>\n",
       "    </tr>\n",
       "  </thead>\n",
       "  <tbody>\n",
       "    <tr>\n",
       "      <th>0</th>\n",
       "      <td>0</td>\n",
       "      <td>31</td>\n",
       "      <td>53</td>\n",
       "      <td>0</td>\n",
       "      <td>2</td>\n",
       "      <td>2</td>\n",
       "      <td>0.0</td>\n",
       "      <td>0</td>\n",
       "      <td>PRT</td>\n",
       "      <td>1</td>\n",
       "      <td>...</td>\n",
       "      <td>2016-12-30</td>\n",
       "      <td>1.0</td>\n",
       "      <td>1.0</td>\n",
       "      <td>2.0</td>\n",
       "      <td>1.0</td>\n",
       "      <td>0.0</td>\n",
       "      <td>0.0</td>\n",
       "      <td>1.0</td>\n",
       "      <td>2</td>\n",
       "      <td>2.0</td>\n",
       "    </tr>\n",
       "    <tr>\n",
       "      <th>1</th>\n",
       "      <td>0</td>\n",
       "      <td>112</td>\n",
       "      <td>53</td>\n",
       "      <td>0</td>\n",
       "      <td>3</td>\n",
       "      <td>1</td>\n",
       "      <td>0.0</td>\n",
       "      <td>0</td>\n",
       "      <td>PRT</td>\n",
       "      <td>0</td>\n",
       "      <td>...</td>\n",
       "      <td>2015-12-30</td>\n",
       "      <td>1.0</td>\n",
       "      <td>3.0</td>\n",
       "      <td>2.0</td>\n",
       "      <td>1.0</td>\n",
       "      <td>0.0</td>\n",
       "      <td>0.0</td>\n",
       "      <td>1.0</td>\n",
       "      <td>3</td>\n",
       "      <td>1.0</td>\n",
       "    </tr>\n",
       "    <tr>\n",
       "      <th>2</th>\n",
       "      <td>0</td>\n",
       "      <td>112</td>\n",
       "      <td>53</td>\n",
       "      <td>0</td>\n",
       "      <td>3</td>\n",
       "      <td>2</td>\n",
       "      <td>0.0</td>\n",
       "      <td>0</td>\n",
       "      <td>PRT</td>\n",
       "      <td>0</td>\n",
       "      <td>...</td>\n",
       "      <td>2015-12-30</td>\n",
       "      <td>1.0</td>\n",
       "      <td>3.0</td>\n",
       "      <td>2.0</td>\n",
       "      <td>1.0</td>\n",
       "      <td>0.0</td>\n",
       "      <td>0.0</td>\n",
       "      <td>1.0</td>\n",
       "      <td>3</td>\n",
       "      <td>2.0</td>\n",
       "    </tr>\n",
       "    <tr>\n",
       "      <th>3</th>\n",
       "      <td>0</td>\n",
       "      <td>112</td>\n",
       "      <td>53</td>\n",
       "      <td>0</td>\n",
       "      <td>3</td>\n",
       "      <td>2</td>\n",
       "      <td>0.0</td>\n",
       "      <td>0</td>\n",
       "      <td>PRT</td>\n",
       "      <td>0</td>\n",
       "      <td>...</td>\n",
       "      <td>2015-12-30</td>\n",
       "      <td>1.0</td>\n",
       "      <td>3.0</td>\n",
       "      <td>2.0</td>\n",
       "      <td>1.0</td>\n",
       "      <td>0.0</td>\n",
       "      <td>0.0</td>\n",
       "      <td>1.0</td>\n",
       "      <td>3</td>\n",
       "      <td>2.0</td>\n",
       "    </tr>\n",
       "    <tr>\n",
       "      <th>4</th>\n",
       "      <td>0</td>\n",
       "      <td>70</td>\n",
       "      <td>52</td>\n",
       "      <td>2</td>\n",
       "      <td>8</td>\n",
       "      <td>3</td>\n",
       "      <td>0.0</td>\n",
       "      <td>0</td>\n",
       "      <td>PRT</td>\n",
       "      <td>0</td>\n",
       "      <td>...</td>\n",
       "      <td>2015-12-23</td>\n",
       "      <td>1.0</td>\n",
       "      <td>1.0</td>\n",
       "      <td>0.0</td>\n",
       "      <td>0.0</td>\n",
       "      <td>7.0</td>\n",
       "      <td>7.0</td>\n",
       "      <td>0.0</td>\n",
       "      <td>10</td>\n",
       "      <td>3.0</td>\n",
       "    </tr>\n",
       "  </tbody>\n",
       "</table>\n",
       "<p>5 rows × 28 columns</p>\n",
       "</div>"
      ],
      "text/plain": [
       "   is_canceled  lead_time  arrival_date_week_number  stays_in_weekend_nights  \\\n",
       "0            0         31                        53                        0   \n",
       "1            0        112                        53                        0   \n",
       "2            0        112                        53                        0   \n",
       "3            0        112                        53                        0   \n",
       "4            0         70                        52                        2   \n",
       "\n",
       "   stays_in_week_nights  adults  children  babies country  is_repeated_guest  \\\n",
       "0                     2       2       0.0       0     PRT                  1   \n",
       "1                     3       1       0.0       0     PRT                  0   \n",
       "2                     3       2       0.0       0     PRT                  0   \n",
       "3                     3       2       0.0       0     PRT                  0   \n",
       "4                     8       3       0.0       0     PRT                  0   \n",
       "\n",
       "   ...  arrival_date  hotel_index  meal_index market_segment_index  \\\n",
       "0  ...    2016-12-30          1.0         1.0                  2.0   \n",
       "1  ...    2015-12-30          1.0         3.0                  2.0   \n",
       "2  ...    2015-12-30          1.0         3.0                  2.0   \n",
       "3  ...    2015-12-30          1.0         3.0                  2.0   \n",
       "4  ...    2015-12-23          1.0         1.0                  0.0   \n",
       "\n",
       "   distribution_channel_index  reserved_room_type_index  \\\n",
       "0                         1.0                       0.0   \n",
       "1                         1.0                       0.0   \n",
       "2                         1.0                       0.0   \n",
       "3                         1.0                       0.0   \n",
       "4                         0.0                       7.0   \n",
       "\n",
       "   assigned_room_type_index  customer_type_index total_stays  total_guests  \n",
       "0                       0.0                  1.0           2           2.0  \n",
       "1                       0.0                  1.0           3           1.0  \n",
       "2                       0.0                  1.0           3           2.0  \n",
       "3                       0.0                  1.0           3           2.0  \n",
       "4                       7.0                  0.0          10           3.0  \n",
       "\n",
       "[5 rows x 28 columns]"
      ]
     },
     "execution_count": 2,
     "metadata": {},
     "output_type": "execute_result"
    }
   ],
   "source": [
    "df = pd.read_csv(\"hotel_bookings_tranformed.csv\")\n",
    "\n",
    "df.head()"
   ]
  },
  {
   "cell_type": "code",
   "execution_count": 3,
   "id": "ed88ca43",
   "metadata": {},
   "outputs": [
    {
     "name": "stdout",
     "output_type": "stream",
     "text": [
      "(119390, 28)\n"
     ]
    }
   ],
   "source": [
    "print(df.shape)"
   ]
  },
  {
   "cell_type": "code",
   "execution_count": 4,
   "id": "53494c42",
   "metadata": {},
   "outputs": [
    {
     "name": "stdout",
     "output_type": "stream",
     "text": [
      "is_canceled                            0\n",
      "lead_time                              0\n",
      "arrival_date_week_number               0\n",
      "stays_in_weekend_nights                0\n",
      "stays_in_week_nights                   0\n",
      "adults                                 0\n",
      "children                               0\n",
      "babies                                 0\n",
      "country                              488\n",
      "is_repeated_guest                      0\n",
      "previous_cancellations                 0\n",
      "previous_bookings_not_canceled         0\n",
      "booking_changes                        0\n",
      "deposit_type                           0\n",
      "agent                              16340\n",
      "company                           112593\n",
      "adr                                    0\n",
      "total_of_special_requests              0\n",
      "arrival_date                           0\n",
      "hotel_index                            0\n",
      "meal_index                             0\n",
      "market_segment_index                   0\n",
      "distribution_channel_index             0\n",
      "reserved_room_type_index               0\n",
      "assigned_room_type_index               0\n",
      "customer_type_index                    0\n",
      "total_stays                            0\n",
      "total_guests                           0\n",
      "dtype: int64\n"
     ]
    }
   ],
   "source": [
    "print(df.isnull().sum())\n"
   ]
  },
  {
   "cell_type": "code",
   "execution_count": 5,
   "id": "0e1d710c",
   "metadata": {},
   "outputs": [
    {
     "name": "stdout",
     "output_type": "stream",
     "text": [
      "         is_canceled      lead_time  arrival_date_week_number  \\\n",
      "count  119390.000000  119390.000000             119390.000000   \n",
      "mean        0.370416     104.011416                 27.165173   \n",
      "std         0.482918     106.863097                 13.605138   \n",
      "min         0.000000       0.000000                  1.000000   \n",
      "25%         0.000000      18.000000                 16.000000   \n",
      "50%         0.000000      69.000000                 28.000000   \n",
      "75%         1.000000     160.000000                 38.000000   \n",
      "max         1.000000     737.000000                 53.000000   \n",
      "\n",
      "       stays_in_weekend_nights  stays_in_week_nights         adults  \\\n",
      "count            119390.000000         119390.000000  119390.000000   \n",
      "mean                  0.927599              2.500302       1.856403   \n",
      "std                   0.998613              1.908286       0.579261   \n",
      "min                   0.000000              0.000000       0.000000   \n",
      "25%                   0.000000              1.000000       2.000000   \n",
      "50%                   1.000000              2.000000       2.000000   \n",
      "75%                   2.000000              3.000000       2.000000   \n",
      "max                  19.000000             50.000000      55.000000   \n",
      "\n",
      "            children         babies  is_repeated_guest  \\\n",
      "count  119390.000000  119390.000000      119390.000000   \n",
      "mean        0.103886       0.007949           0.031912   \n",
      "std         0.398555       0.097436           0.175767   \n",
      "min         0.000000       0.000000           0.000000   \n",
      "25%         0.000000       0.000000           0.000000   \n",
      "50%         0.000000       0.000000           0.000000   \n",
      "75%         0.000000       0.000000           0.000000   \n",
      "max        10.000000      10.000000           1.000000   \n",
      "\n",
      "       previous_cancellations  ...  total_of_special_requests    hotel_index  \\\n",
      "count           119390.000000  ...              119390.000000  119390.000000   \n",
      "mean                 0.087118  ...                   0.571363       0.335539   \n",
      "std                  0.844336  ...                   0.792798       0.472181   \n",
      "min                  0.000000  ...                   0.000000       0.000000   \n",
      "25%                  0.000000  ...                   0.000000       0.000000   \n",
      "50%                  0.000000  ...                   0.000000       0.000000   \n",
      "75%                  0.000000  ...                   1.000000       1.000000   \n",
      "max                 26.000000  ...                   5.000000       1.000000   \n",
      "\n",
      "          meal_index  market_segment_index  distribution_channel_index  \\\n",
      "count  119390.000000         119390.000000               119390.000000   \n",
      "mean        0.355658              1.072033                    0.239534   \n",
      "std         0.739279              1.266929                    0.551556   \n",
      "min         0.000000              0.000000                    0.000000   \n",
      "25%         0.000000              0.000000                    0.000000   \n",
      "50%         0.000000              1.000000                    0.000000   \n",
      "75%         0.000000              2.000000                    0.000000   \n",
      "max         4.000000              7.000000                    4.000000   \n",
      "\n",
      "       reserved_room_type_index  assigned_room_type_index  \\\n",
      "count             119390.000000             119390.000000   \n",
      "mean                   0.543404                  0.819013   \n",
      "std                    1.164392                  1.504811   \n",
      "min                    0.000000                  0.000000   \n",
      "25%                    0.000000                  0.000000   \n",
      "50%                    0.000000                  0.000000   \n",
      "75%                    1.000000                  1.000000   \n",
      "max                    9.000000                 11.000000   \n",
      "\n",
      "       customer_type_index    total_stays   total_guests  \n",
      "count        119390.000000  119390.000000  119390.000000  \n",
      "mean              0.293216       3.427900       1.968239  \n",
      "std               0.551834       2.557439       0.722394  \n",
      "min               0.000000       0.000000       0.000000  \n",
      "25%               0.000000       2.000000       2.000000  \n",
      "50%               0.000000       3.000000       2.000000  \n",
      "75%               0.000000       4.000000       2.000000  \n",
      "max               3.000000      69.000000      55.000000  \n",
      "\n",
      "[8 rows x 25 columns]\n"
     ]
    }
   ],
   "source": [
    "print(df.describe())"
   ]
  },
  {
   "cell_type": "code",
   "execution_count": 6,
   "id": "29d4e84c",
   "metadata": {},
   "outputs": [
    {
     "name": "stdout",
     "output_type": "stream",
     "text": [
      "Average Cancellation Ratio: %37.04\n"
     ]
    }
   ],
   "source": [
    "cancel_rate = df[\"is_canceled\"].mean() * 100\n",
    "print(f\"Average Cancellation Ratio: %{cancel_rate:.2f}\")"
   ]
  },
  {
   "cell_type": "code",
   "execution_count": 7,
   "id": "c5e4fe39",
   "metadata": {},
   "outputs": [
    {
     "data": {
      "image/png": "[encoded data removed]",
      "text/plain": [
       "<Figure size 640x480 with 1 Axes>"
      ]
     },
     "metadata": {},
     "output_type": "display_data"
    }
   ],
   "source": [
    "cancel_rate_groupby_hotel = df.groupby(\"hotel_index\")[\"is_canceled\"].mean().reset_index()\n",
    "sns.barplot(x=\"hotel_index\", y=\"is_canceled\", data = cancel_rate_groupby_hotel)\n",
    "plt.title(\"Cancel Rate Group By Hotel\")\n",
    "plt.show()"
   ]
  },
  {
   "cell_type": "code",
   "execution_count": 8,
   "id": "6f715c3c",
   "metadata": {},
   "outputs": [
    {
     "name": "stdout",
     "output_type": "stream",
     "text": [
      "Average length of stay:  3.4279001591423066\n"
     ]
    },
    {
     "data": {
      "image/png": "[encoded data removed]",
      "text/plain": [
       "<Figure size 640x480 with 1 Axes>"
      ]
     },
     "metadata": {},
     "output_type": "display_data"
    }
   ],
   "source": [
    "print(\"Average length of stay: \", df[\"total_stays\"].mean())\n",
    "\n",
    "sns.histplot(df[\"total_stays\"], bins=30, kde=False)\n",
    "plt.title(\"Average length of stay\")\n",
    "plt.show()\n"
   ]
  },
  {
   "cell_type": "code",
   "execution_count": 9,
   "id": "1d847488",
   "metadata": {},
   "outputs": [
    {
     "name": "stdout",
     "output_type": "stream",
     "text": [
      "country\n",
      "PRT    48590\n",
      "GBR    12129\n",
      "FRA    10415\n",
      "ESP     8568\n",
      "DEU     7287\n",
      "ITA     3766\n",
      "IRL     3375\n",
      "BEL     2342\n",
      "BRA     2224\n",
      "NLD     2104\n",
      "Name: count, dtype: int64\n"
     ]
    },
    {
     "data": {
      "image/png": "[encoded data removed]",
      "text/plain": [
       "<Figure size 640x480 with 1 Axes>"
      ]
     },
     "metadata": {},
     "output_type": "display_data"
    }
   ],
   "source": [
    "top_countries = df[\"country\"].value_counts().head(10)\n",
    "print(top_countries)\n",
    "\n",
    "sns.barplot(x= top_countries, y= top_countries.values)\n",
    "plt.xticks(rotation = 45)\n",
    "plt.title(\"Top 10 Countries With The Most Rezervation\")\n",
    "plt.show()"
   ]
  },
  {
   "cell_type": "code",
   "execution_count": 10,
   "id": "5e2dd661",
   "metadata": {},
   "outputs": [
    {
     "data": {
      "image/png": "[encoded data removed]",
      "text/plain": [
       "<Figure size 640x480 with 1 Axes>"
      ]
     },
     "metadata": {},
     "output_type": "display_data"
    }
   ],
   "source": [
    "df.groupby(\"is_canceled\")[\"lead_time\"].mean()\n",
    "\n",
    "sns.boxplot(x=\"is_canceled\", y=\"lead_time\", data=df)\n",
    "plt.title(\"Average Lead Time by Cancellation Status\")\n",
    "plt.show()\n"
   ]
  },
  {
   "cell_type": "code",
   "execution_count": 11,
   "id": "926706a4",
   "metadata": {},
   "outputs": [
    {
     "data": {
      "image/png": "[encoded data removed]",
      "text/plain": [
       "<Figure size 640x480 with 1 Axes>"
      ]
     },
     "metadata": {},
     "output_type": "display_data"
    }
   ],
   "source": [
    "cancel_by_segment = df.groupby(\"market_segment_index\")[\"is_canceled\"].mean()\n",
    "cancel_by_segment.plot(kind=\"bar\", title=\"Cancellation Ratio By Market\")\n",
    "plt.show()\n"
   ]
  }
 ],
 "metadata": {
  "kernelspec": {
   "display_name": "tf-env",
   "language": "python",
   "name": "python3"
  },
  "language_info": {
   "codemirror_mode": {
    "name": "ipython",
    "version": 3
   },
   "file_extension": ".py",
   "mimetype": "text/x-python",
   "name": "python",
   "nbconvert_exporter": "python",
   "pygments_lexer": "ipython3",
   "version": "3.8.20"
  }
 },
 "nbformat": 4,
 "nbformat_minor": 5
}
